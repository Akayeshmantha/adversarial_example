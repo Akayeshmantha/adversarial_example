{
 "cells": [
  {
   "cell_type": "markdown",
   "metadata": {
    "colab_type": "text",
    "id": "gkmYqlc1wfqO"
   },
   "source": [
    "# The simplest adversarial attack: attacking a linear model\n",
    "Author: Pierre Ablin\n",
    "\n",
    "In this notebook, we show the simplest form of adversarial attack: an attack of a linear model for binary classification.\n",
    "\n",
    "We are going to use the famous MNIST dataset containing digits, and try to discriminate 3's from 7's.\n",
    "\n",
    "Given some training samples $(x_1, y_1), \\cdots, (x_n, y_n)$ with $x_i \\in \\mathbb{R}^{p}$ and $y_i = \\pm 1$, the linear model builds a decision function based on a hyperplane:\n",
    "\n",
    "$$ y = \\text{sign}(w^{\\top}x + b) \\enspace, $$\n",
    "\n",
    "where $w \\in \\mathbb{R}^p$ and $b\\in \\mathbb{R}$ is the intercept. The algorithm learns $w$ and $b$ from the training samples.\n",
    "\n",
    "In the following, we use a regularized logistic regression.\n",
    "\n",
    "\n",
    "<img src=\"\n",
    "https://pierreablingithub.files.wordpress.com/2019/04/fig.png\" align=\"center\" hspace=\"10px\" vspace=\"0px\">\n"
   ]
  },
  {
   "cell_type": "markdown",
   "metadata": {
    "colab_type": "text",
    "id": "OXzNLwT5wfqS"
   },
   "source": [
    "## Preprocessing"
   ]
  },
  {
   "cell_type": "code",
   "execution_count": 1,
   "metadata": {
    "colab": {},
    "colab_type": "code",
    "id": "YgKGF1GKwfqU"
   },
   "outputs": [],
   "source": [
    "import numpy as np\n",
    "\n",
    "import matplotlib.pyplot as plt\n",
    "\n",
    "from sklearn.datasets import fetch_openml\n",
    "from sklearn.linear_model import LogisticRegression\n",
    "from sklearn.model_selection import train_test_split\n",
    "from sklearn.preprocessing import StandardScaler"
   ]
  },
  {
   "cell_type": "markdown",
   "metadata": {
    "colab_type": "text",
    "id": "plVmyC6iwfqa"
   },
   "source": [
    "First, fetch the MNIST dataset:"
   ]
  },
  {
   "cell_type": "code",
   "execution_count": 2,
   "metadata": {
    "colab": {},
    "colab_type": "code",
    "id": "EXkhMx68wfqc"
   },
   "outputs": [],
   "source": [
    "X, y = fetch_openml('mnist_784', version=1, return_X_y=True)"
   ]
  },
  {
   "cell_type": "markdown",
   "metadata": {
    "colab_type": "text",
    "id": "hEdYcI8bwfqg"
   },
   "source": [
    "We are only interested in samples which are 3's or 7's:"
   ]
  },
  {
   "cell_type": "code",
   "execution_count": 3,
   "metadata": {
    "colab": {},
    "colab_type": "code",
    "id": "S6X9Ol6Rwfqh"
   },
   "outputs": [],
   "source": [
    "idxs = (y == '3') + (y == '7')\n",
    "y = y[idxs]\n",
    "X = X[idxs]"
   ]
  },
  {
   "cell_type": "markdown",
   "metadata": {
    "colab_type": "text",
    "id": "FYd--ZE8wfql"
   },
   "source": [
    "Permute the dataset, split it into train and test, and apply a scaling preprocessing."
   ]
  },
  {
   "cell_type": "code",
   "execution_count": 4,
   "metadata": {
    "colab": {},
    "colab_type": "code",
    "id": "h3DEYo79wfqm"
   },
   "outputs": [],
   "source": [
    "random_state = np.random.RandomState(0)\n",
    "permutation = random_state.permutation(X.shape[0])\n",
    "X = X[permutation]\n",
    "y = y[permutation]\n",
    "\n",
    "X_train, X_test, y_train, y_test = \\\n",
    "  train_test_split(X, y, train_size=12000, test_size=2000,\n",
    "                   random_state=random_state)\n",
    "\n",
    "scaler = StandardScaler()\n",
    "X_train = scaler.fit_transform(X_train)\n",
    "X_test = scaler.transform(X_test)"
   ]
  },
  {
   "cell_type": "markdown",
   "metadata": {
    "colab_type": "text",
    "id": "i3-_BNV1wfqt"
   },
   "source": [
    "## Fitting the linear model\n",
    "\n",
    "We fit a logistic regression on the training data"
   ]
  },
  {
   "cell_type": "code",
   "execution_count": 5,
   "metadata": {
    "colab": {
     "base_uri": "https://localhost:8080/",
     "height": 106
    },
    "colab_type": "code",
    "id": "qVy0l_Ylwfqu",
    "outputId": "7ec8b31f-41bd-4227-8414-6df52f50d2e9"
   },
   "outputs": [
    {
     "data": {
      "text/plain": [
       "LogisticRegression(C=1.0, class_weight=None, dual=False, fit_intercept=True,\n",
       "          intercept_scaling=1, max_iter=1000, multi_class='warn',\n",
       "          n_jobs=None, penalty='l2', random_state=None, solver='lbfgs',\n",
       "          tol=0.0001, verbose=0, warm_start=False)"
      ]
     },
     "execution_count": 5,
     "metadata": {},
     "output_type": "execute_result"
    }
   ],
   "source": [
    "logreg = LogisticRegression(solver='lbfgs', max_iter=1000)\n",
    "logreg.fit(X_train, y_train)"
   ]
  },
  {
   "cell_type": "markdown",
   "metadata": {
    "colab_type": "text",
    "id": "krYUW06Swfqz"
   },
   "source": [
    "We can compute the score on the test data:"
   ]
  },
  {
   "cell_type": "code",
   "execution_count": 6,
   "metadata": {
    "colab": {
     "base_uri": "https://localhost:8080/",
     "height": 34
    },
    "colab_type": "code",
    "id": "QBllCyPTwfq0",
    "outputId": "12b6152b-9d6d-4635-e23b-7ba6529130ff"
   },
   "outputs": [
    {
     "name": "stdout",
     "output_type": "stream",
     "text": [
      "test score = 0.9895\n"
     ]
    }
   ],
   "source": [
    "print('test score = {}'.format(logreg.score(X_test, y_test)))"
   ]
  },
  {
   "cell_type": "markdown",
   "metadata": {
    "colab_type": "text",
    "id": "_xUg3mPLwfq5"
   },
   "source": [
    "That is very high, clearly the hyperplane separates well the two classes."
   ]
  },
  {
   "cell_type": "markdown",
   "metadata": {
    "colab_type": "text",
    "id": "UtU3VHqlwfq6"
   },
   "source": [
    "## Adversarial attack\n",
    "\n",
    "Let's take a training sample for x:"
   ]
  },
  {
   "cell_type": "code",
   "execution_count": 7,
   "metadata": {
    "colab": {},
    "colab_type": "code",
    "id": "o3vyBABewfq8"
   },
   "outputs": [],
   "source": [
    "x = X_train[0]"
   ]
  },
  {
   "cell_type": "code",
   "execution_count": 8,
   "metadata": {
    "colab": {},
    "colab_type": "code",
    "id": "mUdsI2Wu_z6R"
   },
   "outputs": [],
   "source": [
    "def show(x):\n",
    "    plt.title('Prediction: %s. Confidence: %d %%' % (logreg.predict([x])[0], 100 * logreg.predict_proba([x]).max()))\n",
    "    plt.imshow(scaler.inverse_transform(x).reshape(28, 28),\n",
    "               cmap=plt.cm.gray_r, vmin=0, vmax=255)\n",
    "    plt.axis('off')"
   ]
  },
  {
   "cell_type": "code",
   "execution_count": 9,
   "metadata": {
    "colab": {
     "base_uri": "https://localhost:8080/",
     "height": 281
    },
    "colab_type": "code",
    "id": "g06YWfQwwfrB",
    "outputId": "5f5a6f45-ddfd-496e-b93c-519c760f77c5"
   },
   "outputs": [
    {
     "data": {
      "image/png": "[encoded data removed]",
      "text/plain": [
       "<Figure size 432x288 with 1 Axes>"
      ]
     },
     "metadata": {
      "needs_background": "light"
     },
     "output_type": "display_data"
    }
   ],
   "source": [
    "show(x)"
   ]
  },
  {
   "cell_type": "markdown",
   "metadata": {
    "colab_type": "text",
    "id": "mHQH0ot1wfrF"
   },
   "source": [
    "The decision algorithm is **very** confident that this is a 3."
   ]
  },
  {
   "cell_type": "markdown",
   "metadata": {
    "colab_type": "text",
    "id": "f5D_B4jewfrJ"
   },
   "source": [
    "Remember that the decision function is defined with a hyperplane $w^{\\top}x + b$.\n",
    "Thus, taking a certain x, we can move it in the hyperplane by doing:\n",
    "$$ x_1 =  x - \\frac{w^{\\top}x + b}{w^{\\top}w}w$$ \n"
   ]
  },
  {
   "cell_type": "code",
   "execution_count": 10,
   "metadata": {
    "colab": {},
    "colab_type": "code",
    "id": "iTMT4pL8wfrJ"
   },
   "outputs": [],
   "source": [
    "w = logreg.coef_[0]\n",
    "b = logreg.intercept_\n",
    "\n",
    "x1 = x - (np.dot(w, x) + b) / np.dot(w, w) * w"
   ]
  },
  {
   "cell_type": "markdown",
   "metadata": {
    "colab_type": "text",
    "id": "TKAFm4luwfrM"
   },
   "source": [
    "Doing so, the algorithm predicts with equal probability the two classes:"
   ]
  },
  {
   "cell_type": "code",
   "execution_count": 11,
   "metadata": {
    "colab": {
     "base_uri": "https://localhost:8080/",
     "height": 34
    },
    "colab_type": "code",
    "id": "Y6mKi9InwfrM",
    "outputId": "25fb7d6a-e5d8-4246-94e8-6455b5e14905"
   },
   "outputs": [
    {
     "data": {
      "text/plain": [
       "array([[0.5, 0.5]])"
      ]
     },
     "execution_count": 11,
     "metadata": {},
     "output_type": "execute_result"
    }
   ],
   "source": [
    "logreg.predict_proba([x1])"
   ]
  },
  {
   "cell_type": "markdown",
   "metadata": {
    "colab_type": "text",
    "id": "b0uWalmJwfrR"
   },
   "source": [
    "What does the new x look like?"
   ]
  },
  {
   "cell_type": "code",
   "execution_count": 12,
   "metadata": {
    "colab": {
     "base_uri": "https://localhost:8080/",
     "height": 281
    },
    "colab_type": "code",
    "id": "1MZQbECmwfrR",
    "outputId": "f9f879f4-9eab-4da4-e7c0-a3f724c8ed37"
   },
   "outputs": [
    {
     "data": {
      "image/png": "[encoded data removed]",
      "text/plain": [
       "<Figure size 432x288 with 1 Axes>"
      ]
     },
     "metadata": {
      "needs_background": "light"
     },
     "output_type": "display_data"
    }
   ],
   "source": [
    "show(x1)"
   ]
  },
  {
   "cell_type": "markdown",
   "metadata": {
    "colab_type": "text",
    "id": "nxi7TSSuwfrW"
   },
   "source": [
    "Still looks like a 3 !\n",
    "\n",
    "And we can take things further by moving x further on the other side of the hyperplane:\n",
    "\n",
    "$$ x_2 =  x - \\alpha \\frac{w^{\\top}x + b}{w^{\\top}w}w \\enspace, $$ \n",
    "where $\\alpha > 1$:"
   ]
  },
  {
   "cell_type": "code",
   "execution_count": 13,
   "metadata": {
    "colab": {},
    "colab_type": "code",
    "id": "2PpkdfZRwfrY"
   },
   "outputs": [],
   "source": [
    "perturbation = 1.3 * (np.dot(w, x) + b) / np.dot(w, w) * w\n",
    "x2 = x - perturbation"
   ]
  },
  {
   "cell_type": "code",
   "execution_count": 14,
   "metadata": {
    "colab": {
     "base_uri": "https://localhost:8080/",
     "height": 54
    },
    "colab_type": "code",
    "id": "2qJR6LxNwfre",
    "outputId": "a2ef9f89-48fd-4ff1-f1d4-46970361aab0"
   },
   "outputs": [
    {
     "data": {
      "text/plain": [
       "array([[0.0011772, 0.9988228]])"
      ]
     },
     "execution_count": 14,
     "metadata": {},
     "output_type": "execute_result"
    }
   ],
   "source": [
    "logreg.predict_proba([x2])"
   ]
  },
  {
   "cell_type": "markdown",
   "metadata": {
    "colab_type": "text",
    "id": "D3nm731Ywfrj"
   },
   "source": [
    "Now, the algorithm is quite confident that it is a 7!"
   ]
  },
  {
   "cell_type": "code",
   "execution_count": 15,
   "metadata": {
    "colab": {
     "base_uri": "https://localhost:8080/",
     "height": 281
    },
    "colab_type": "code",
    "id": "odpfFsA1wfrl",
    "outputId": "651c9353-aed2-41c3-8f53-c80592a14d1c"
   },
   "outputs": [
    {
     "data": {
      "image/png": "[encoded data removed]",
      "text/plain": [
       "<Figure size 432x288 with 1 Axes>"
      ]
     },
     "metadata": {
      "needs_background": "light"
     },
     "output_type": "display_data"
    }
   ],
   "source": [
    "show(x2)"
   ]
  },
  {
   "cell_type": "markdown",
   "metadata": {
    "colab_type": "text",
    "id": "_R_6G7F_wfrp"
   },
   "source": [
    "It still looks perfectly like a 3 to a human. This is what is called an *adversarial attack*: a small perturbation of x completely confuses the classification algorithm. Note that the adversarial perturbation is small compared to x:"
   ]
  },
  {
   "cell_type": "code",
   "execution_count": 16,
   "metadata": {
    "colab": {
     "base_uri": "https://localhost:8080/",
     "height": 34
    },
    "colab_type": "code",
    "id": "eENOcxO-wfrq",
    "outputId": "26fb1efb-6104-489d-cac2-a9ab63740cc3"
   },
   "outputs": [
    {
     "data": {
      "text/plain": [
       "0.16364926107662514"
      ]
     },
     "execution_count": 16,
     "metadata": {},
     "output_type": "execute_result"
    }
   ],
   "source": [
    "np.linalg.norm(perturbation) / np.linalg.norm(x)"
   ]
  },
  {
   "cell_type": "markdown",
   "metadata": {
    "colab_type": "text",
    "id": "m3eA89lOzpmf"
   },
   "source": [
    "<img src=\"\n",
    "https://pierreablingithub.files.wordpress.com/2019/04/fig2.png\" align=\"center\" hspace=\"10px\" vspace=\"0px\">"
   ]
  },
  {
   "cell_type": "markdown",
   "metadata": {
    "colab_type": "text",
    "id": "OXE4QqVDwfrv"
   },
   "source": [
    "The essence of adversarial attack is that even though $x_2$ belongs to 'the other side' of the hyperplane, it is still a '3' according to our own human classifier.\n",
    "\n",
    "This simple experiment shows that adversarial attacks are possible for one of the simplest classification model. Intuitively, increasing the model complexity, for instance by using a neural network, further worsen the problem."
   ]
  }
 ],
 "metadata": {
  "colab": {
   "collapsed_sections": [],
   "name": "Simple attack.ipynb",
   "provenance": [],
   "version": "0.3.2"
  },
  "kernelspec": {
   "display_name": "Python 3",
   "language": "python",
   "name": "python3"
  },
  "language_info": {
   "codemirror_mode": {
    "name": "ipython",
    "version": 3
   },
   "file_extension": ".py",
   "mimetype": "text/x-python",
   "name": "python",
   "nbconvert_exporter": "python",
   "pygments_lexer": "ipython3",
   "version": "3.7.1"
  }
 },
 "nbformat": 4,
 "nbformat_minor": 1
}
